{
  "nbformat": 4,
  "nbformat_minor": 0,
  "metadata": {
    "colab": {
      "provenance": []
    },
    "kernelspec": {
      "name": "python3",
      "display_name": "Python 3"
    },
    "language_info": {
      "name": "python"
    }
  },
  "cells": [
    {
      "cell_type": "code",
      "execution_count": null,
      "metadata": {
        "id": "uIu-1_Lz3rr_"
      },
      "outputs": [],
      "source": [
        "#include<stdio.h>\n",
        "void insert(int a[],int n)\n",
        "{\n",
        "    int i,j,temp;\n",
        "    for(i=1;i<n;i++){\n",
        "        temp=a[i];\n",
        "        j=i-1;\n",
        "        while(j>=0 && temp<=a[j]){\n",
        "            a[j+1]=a[j];\n",
        "            j=j-1;\n",
        "        }\n",
        "        a[j+1]=temp;\n",
        "    }\n",
        "}\n",
        "int main(){\n",
        "    int a[]={69,8,7,23,45};\n",
        "    int n=sizeof(a)/sizeof(a[0]);\n",
        "    insert(a,n);\n",
        "    for(int i=0;i<n;i++){\n",
        "        printf(\" %d \",a[i]);\n",
        "    }\n",
        "}"
      ]
    }
  ]
}